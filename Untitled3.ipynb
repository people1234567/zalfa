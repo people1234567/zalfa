{
  "cells": [
    {
      "cell_type": "code",
      "execution_count": 306,
      "metadata": {},
      "outputs": [
        {
          "name": "stdout",
          "output_type": "stream",
          "text": [
            "Requirement already satisfied: seaborn in /Library/Frameworks/Python.framework/Versions/3.12/lib/python3.12/site-packages (0.13.2)\n",
            "Requirement already satisfied: numpy!=1.24.0,>=1.20 in /Library/Frameworks/Python.framework/Versions/3.12/lib/python3.12/site-packages (from seaborn) (2.0.1)\n",
            "Requirement already satisfied: pandas>=1.2 in /Library/Frameworks/Python.framework/Versions/3.12/lib/python3.12/site-packages (from seaborn) (2.2.2)\n",
            "Requirement already satisfied: matplotlib!=3.6.1,>=3.4 in /Library/Frameworks/Python.framework/Versions/3.12/lib/python3.12/site-packages (from seaborn) (3.9.1)\n",
            "Requirement already satisfied: contourpy>=1.0.1 in /Library/Frameworks/Python.framework/Versions/3.12/lib/python3.12/site-packages (from matplotlib!=3.6.1,>=3.4->seaborn) (1.2.1)\n",
            "Requirement already satisfied: cycler>=0.10 in /Library/Frameworks/Python.framework/Versions/3.12/lib/python3.12/site-packages (from matplotlib!=3.6.1,>=3.4->seaborn) (0.12.1)\n",
            "Requirement already satisfied: fonttools>=4.22.0 in /Library/Frameworks/Python.framework/Versions/3.12/lib/python3.12/site-packages (from matplotlib!=3.6.1,>=3.4->seaborn) (4.53.1)\n",
            "Requirement already satisfied: kiwisolver>=1.3.1 in /Library/Frameworks/Python.framework/Versions/3.12/lib/python3.12/site-packages (from matplotlib!=3.6.1,>=3.4->seaborn) (1.4.5)\n",
            "Requirement already satisfied: packaging>=20.0 in /Users/macbookair/Library/Python/3.12/lib/python/site-packages (from matplotlib!=3.6.1,>=3.4->seaborn) (24.1)\n",
            "Requirement already satisfied: pillow>=8 in /Library/Frameworks/Python.framework/Versions/3.12/lib/python3.12/site-packages (from matplotlib!=3.6.1,>=3.4->seaborn) (10.4.0)\n",
            "Requirement already satisfied: pyparsing>=2.3.1 in /Library/Frameworks/Python.framework/Versions/3.12/lib/python3.12/site-packages (from matplotlib!=3.6.1,>=3.4->seaborn) (3.1.2)\n",
            "Requirement already satisfied: python-dateutil>=2.7 in /Users/macbookair/Library/Python/3.12/lib/python/site-packages (from matplotlib!=3.6.1,>=3.4->seaborn) (2.9.0.post0)\n",
            "Requirement already satisfied: pytz>=2020.1 in /Library/Frameworks/Python.framework/Versions/3.12/lib/python3.12/site-packages (from pandas>=1.2->seaborn) (2024.1)\n",
            "Requirement already satisfied: tzdata>=2022.7 in /Library/Frameworks/Python.framework/Versions/3.12/lib/python3.12/site-packages (from pandas>=1.2->seaborn) (2024.1)\n",
            "Requirement already satisfied: six>=1.5 in /Users/macbookair/Library/Python/3.12/lib/python/site-packages (from python-dateutil>=2.7->matplotlib!=3.6.1,>=3.4->seaborn) (1.16.0)\n",
            "Note: you may need to restart the kernel to use updated packages.\n"
          ]
        }
      ],
      "source": [
        "pip install seaborn"
      ]
    },
    {
      "cell_type": "code",
      "execution_count": 307,
      "metadata": {
        "colab": {
          "base_uri": "https://localhost:8080/",
          "height": 419
        },
        "id": "FJc2av6cHxDI",
        "outputId": "69146658-e657-459b-e3d7-b2a8dddf14e2"
      },
      "outputs": [
        {
          "data": {
            "text/html": [
              "<div>\n",
              "<style scoped>\n",
              "    .dataframe tbody tr th:only-of-type {\n",
              "        vertical-align: middle;\n",
              "    }\n",
              "\n",
              "    .dataframe tbody tr th {\n",
              "        vertical-align: top;\n",
              "    }\n",
              "\n",
              "    .dataframe thead th {\n",
              "        text-align: right;\n",
              "    }\n",
              "</style>\n",
              "<table border=\"1\" class=\"dataframe\">\n",
              "  <thead>\n",
              "    <tr style=\"text-align: right;\">\n",
              "      <th></th>\n",
              "      <th>RedPixel</th>\n",
              "      <th>Greenpixel</th>\n",
              "      <th>Bluepixel</th>\n",
              "      <th>Hb</th>\n",
              "      <th>Anaemic</th>\n",
              "    </tr>\n",
              "  </thead>\n",
              "  <tbody>\n",
              "    <tr>\n",
              "      <th>0</th>\n",
              "      <td>432.555</td>\n",
              "      <td>308.421</td>\n",
              "      <td>259.025</td>\n",
              "      <td>6.03</td>\n",
              "      <td>1</td>\n",
              "    </tr>\n",
              "    <tr>\n",
              "      <th>1</th>\n",
              "      <td>450.107</td>\n",
              "      <td>289.677</td>\n",
              "      <td>260.215</td>\n",
              "      <td>11.07</td>\n",
              "      <td>0</td>\n",
              "    </tr>\n",
              "    <tr>\n",
              "      <th>2</th>\n",
              "      <td>445.398</td>\n",
              "      <td>289.899</td>\n",
              "      <td>264.703</td>\n",
              "      <td>13.05</td>\n",
              "      <td>0</td>\n",
              "    </tr>\n",
              "    <tr>\n",
              "      <th>3</th>\n",
              "      <td>43.287</td>\n",
              "      <td>306.972</td>\n",
              "      <td>260.158</td>\n",
              "      <td>12.04</td>\n",
              "      <td>0</td>\n",
              "    </tr>\n",
              "    <tr>\n",
              "      <th>4</th>\n",
              "      <td>450.994</td>\n",
              "      <td>279.645</td>\n",
              "      <td>269.361</td>\n",
              "      <td>16.02</td>\n",
              "      <td>0</td>\n",
              "    </tr>\n",
              "    <tr>\n",
              "      <th>...</th>\n",
              "      <td>...</td>\n",
              "      <td>...</td>\n",
              "      <td>...</td>\n",
              "      <td>...</td>\n",
              "      <td>...</td>\n",
              "    </tr>\n",
              "    <tr>\n",
              "      <th>98</th>\n",
              "      <td>499.999</td>\n",
              "      <td>29.286</td>\n",
              "      <td>207.141</td>\n",
              "      <td>14.05</td>\n",
              "      <td>1</td>\n",
              "    </tr>\n",
              "    <tr>\n",
              "      <th>99</th>\n",
              "      <td>422.324</td>\n",
              "      <td>306.757</td>\n",
              "      <td>270.919</td>\n",
              "      <td>6.03</td>\n",
              "      <td>1</td>\n",
              "    </tr>\n",
              "    <tr>\n",
              "      <th>100</th>\n",
              "      <td>456.064</td>\n",
              "      <td>319.084</td>\n",
              "      <td>224.852</td>\n",
              "      <td>12.07</td>\n",
              "      <td>0</td>\n",
              "    </tr>\n",
              "    <tr>\n",
              "      <th>101</th>\n",
              "      <td>452.095</td>\n",
              "      <td>292.769</td>\n",
              "      <td>255.136</td>\n",
              "      <td>13.04</td>\n",
              "      <td>0</td>\n",
              "    </tr>\n",
              "    <tr>\n",
              "      <th>102</th>\n",
              "      <td>435.706</td>\n",
              "      <td>298.094</td>\n",
              "      <td>266.199</td>\n",
              "      <td>12.02</td>\n",
              "      <td>0</td>\n",
              "    </tr>\n",
              "  </tbody>\n",
              "</table>\n",
              "<p>103 rows × 5 columns</p>\n",
              "</div>"
            ],
            "text/plain": [
              "     RedPixel  Greenpixel  Bluepixel     Hb  Anaemic\n",
              "0     432.555     308.421    259.025   6.03        1\n",
              "1     450.107     289.677    260.215  11.07        0\n",
              "2     445.398     289.899    264.703  13.05        0\n",
              "3      43.287     306.972    260.158  12.04        0\n",
              "4     450.994     279.645    269.361  16.02        0\n",
              "..        ...         ...        ...    ...      ...\n",
              "98    499.999      29.286    207.141  14.05        1\n",
              "99    422.324     306.757    270.919   6.03        1\n",
              "100   456.064     319.084    224.852  12.07        0\n",
              "101   452.095     292.769    255.136  13.04        0\n",
              "102   435.706     298.094    266.199  12.02        0\n",
              "\n",
              "[103 rows x 5 columns]"
            ]
          },
          "execution_count": 307,
          "metadata": {},
          "output_type": "execute_result"
        }
      ],
      "source": [
        "# Importing necessary libraries\n",
        "import pandas as pd\n",
        "import seaborn as sns\n",
        "import matplotlib.pyplot as plt\n",
        "\n",
        "# Load dataset\n",
        "df = pd.read_csv('data mpml.csv',sep=';')\n",
        "df"
      ]
    },
    {
      "cell_type": "code",
      "execution_count": 308,
      "metadata": {
        "colab": {
          "base_uri": "https://localhost:8080/"
        },
        "id": "v6HI_sPcJDa3",
        "outputId": "04446073-a265-4306-b3d8-a5b9d0f7c240"
      },
      "outputs": [
        {
          "name": "stdout",
          "output_type": "stream",
          "text": [
            "<class 'pandas.core.frame.DataFrame'>\n",
            "RangeIndex: 103 entries, 0 to 102\n",
            "Data columns (total 5 columns):\n",
            " #   Column      Non-Null Count  Dtype  \n",
            "---  ------      --------------  -----  \n",
            " 0   RedPixel    103 non-null    float64\n",
            " 1   Greenpixel  103 non-null    float64\n",
            " 2   Bluepixel   103 non-null    float64\n",
            " 3   Hb          103 non-null    float64\n",
            " 4   Anaemic     103 non-null    int64  \n",
            "dtypes: float64(4), int64(1)\n",
            "memory usage: 4.2 KB\n",
            "None\n",
            "         RedPixel  Greenpixel   Bluepixel          Hb     Anaemic\n",
            "count  103.000000  103.000000  103.000000  103.000000  103.000000\n",
            "mean   432.528485  263.723680  231.175049   11.786602    0.252427\n",
            "std    100.358763   78.905915   73.985856    2.580453    0.436529\n",
            "min     41.133000   26.922000   20.152000    2.080000    0.000000\n",
            "25%    434.531000  272.488500  244.437500   10.060000    0.000000\n",
            "50%    450.994000  287.311000  257.918000   12.060000    0.000000\n",
            "75%    468.703500  298.311500  267.059500   14.000000    0.500000\n",
            "max    546.478000  323.681000  298.414000   16.030000    1.000000\n"
          ]
        }
      ],
      "source": [
        "print(df.info())\n",
        "print(df.describe())\n"
      ]
    },
    {
      "cell_type": "code",
      "execution_count": 309,
      "metadata": {
        "id": "Hr1IusrLL_ZI"
      },
      "outputs": [],
      "source": [
        "df['Greenpixel'] = pd.to_numeric(df['Greenpixel'])"
      ]
    },
    {
      "cell_type": "code",
      "execution_count": 310,
      "metadata": {
        "colab": {
          "base_uri": "https://localhost:8080/",
          "height": 419
        },
        "id": "L01FMCuWI1sj",
        "outputId": "956b5956-3280-4864-fe74-39f8eaf85676"
      },
      "outputs": [
        {
          "data": {
            "text/html": [
              "<div>\n",
              "<style scoped>\n",
              "    .dataframe tbody tr th:only-of-type {\n",
              "        vertical-align: middle;\n",
              "    }\n",
              "\n",
              "    .dataframe tbody tr th {\n",
              "        vertical-align: top;\n",
              "    }\n",
              "\n",
              "    .dataframe thead th {\n",
              "        text-align: right;\n",
              "    }\n",
              "</style>\n",
              "<table border=\"1\" class=\"dataframe\">\n",
              "  <thead>\n",
              "    <tr style=\"text-align: right;\">\n",
              "      <th></th>\n",
              "      <th>RedPixel</th>\n",
              "      <th>Greenpixel</th>\n",
              "      <th>Bluepixel</th>\n",
              "      <th>Hb</th>\n",
              "      <th>Anaemic</th>\n",
              "    </tr>\n",
              "  </thead>\n",
              "  <tbody>\n",
              "    <tr>\n",
              "      <th>0</th>\n",
              "      <td>432.555</td>\n",
              "      <td>308.421</td>\n",
              "      <td>259.025</td>\n",
              "      <td>6.03</td>\n",
              "      <td>1</td>\n",
              "    </tr>\n",
              "    <tr>\n",
              "      <th>1</th>\n",
              "      <td>450.107</td>\n",
              "      <td>289.677</td>\n",
              "      <td>260.215</td>\n",
              "      <td>11.07</td>\n",
              "      <td>0</td>\n",
              "    </tr>\n",
              "    <tr>\n",
              "      <th>2</th>\n",
              "      <td>445.398</td>\n",
              "      <td>289.899</td>\n",
              "      <td>264.703</td>\n",
              "      <td>13.05</td>\n",
              "      <td>0</td>\n",
              "    </tr>\n",
              "    <tr>\n",
              "      <th>3</th>\n",
              "      <td>43.287</td>\n",
              "      <td>306.972</td>\n",
              "      <td>260.158</td>\n",
              "      <td>12.04</td>\n",
              "      <td>0</td>\n",
              "    </tr>\n",
              "    <tr>\n",
              "      <th>4</th>\n",
              "      <td>450.994</td>\n",
              "      <td>279.645</td>\n",
              "      <td>269.361</td>\n",
              "      <td>16.02</td>\n",
              "      <td>0</td>\n",
              "    </tr>\n",
              "    <tr>\n",
              "      <th>...</th>\n",
              "      <td>...</td>\n",
              "      <td>...</td>\n",
              "      <td>...</td>\n",
              "      <td>...</td>\n",
              "      <td>...</td>\n",
              "    </tr>\n",
              "    <tr>\n",
              "      <th>98</th>\n",
              "      <td>499.999</td>\n",
              "      <td>29.286</td>\n",
              "      <td>207.141</td>\n",
              "      <td>14.05</td>\n",
              "      <td>1</td>\n",
              "    </tr>\n",
              "    <tr>\n",
              "      <th>99</th>\n",
              "      <td>422.324</td>\n",
              "      <td>306.757</td>\n",
              "      <td>270.919</td>\n",
              "      <td>6.03</td>\n",
              "      <td>1</td>\n",
              "    </tr>\n",
              "    <tr>\n",
              "      <th>100</th>\n",
              "      <td>456.064</td>\n",
              "      <td>319.084</td>\n",
              "      <td>224.852</td>\n",
              "      <td>12.07</td>\n",
              "      <td>0</td>\n",
              "    </tr>\n",
              "    <tr>\n",
              "      <th>101</th>\n",
              "      <td>452.095</td>\n",
              "      <td>292.769</td>\n",
              "      <td>255.136</td>\n",
              "      <td>13.04</td>\n",
              "      <td>0</td>\n",
              "    </tr>\n",
              "    <tr>\n",
              "      <th>102</th>\n",
              "      <td>435.706</td>\n",
              "      <td>298.094</td>\n",
              "      <td>266.199</td>\n",
              "      <td>12.02</td>\n",
              "      <td>0</td>\n",
              "    </tr>\n",
              "  </tbody>\n",
              "</table>\n",
              "<p>103 rows × 5 columns</p>\n",
              "</div>"
            ],
            "text/plain": [
              "     RedPixel  Greenpixel  Bluepixel     Hb  Anaemic\n",
              "0     432.555     308.421    259.025   6.03        1\n",
              "1     450.107     289.677    260.215  11.07        0\n",
              "2     445.398     289.899    264.703  13.05        0\n",
              "3      43.287     306.972    260.158  12.04        0\n",
              "4     450.994     279.645    269.361  16.02        0\n",
              "..        ...         ...        ...    ...      ...\n",
              "98    499.999      29.286    207.141  14.05        1\n",
              "99    422.324     306.757    270.919   6.03        1\n",
              "100   456.064     319.084    224.852  12.07        0\n",
              "101   452.095     292.769    255.136  13.04        0\n",
              "102   435.706     298.094    266.199  12.02        0\n",
              "\n",
              "[103 rows x 5 columns]"
            ]
          },
          "execution_count": 310,
          "metadata": {},
          "output_type": "execute_result"
        }
      ],
      "source": [
        "\n",
        "from sklearn.preprocessing import LabelEncoder, StandardScaler\n",
        "label_encoder = LabelEncoder()\n",
        "df['Anaemic'] = label_encoder.fit_transform(df['Anaemic'])\n",
        "df"
      ]
    },
    {
      "cell_type": "code",
      "execution_count": 311,
      "metadata": {
        "colab": {
          "base_uri": "https://localhost:8080/"
        },
        "id": "ZEyea40VKakN",
        "outputId": "eda988a3-b82a-408e-d5e2-a32af4f59690"
      },
      "outputs": [
        {
          "name": "stdout",
          "output_type": "stream",
          "text": [
            "RedPixel      0\n",
            "Greenpixel    0\n",
            "Bluepixel     0\n",
            "Hb            0\n",
            "Anaemic       0\n",
            "dtype: int64\n"
          ]
        }
      ],
      "source": [
        "# Check for missing values\n",
        "print(df.isnull().sum())"
      ]
    },
    {
      "cell_type": "code",
      "execution_count": 312,
      "metadata": {
        "colab": {
          "base_uri": "https://localhost:8080/",
          "height": 472
        },
        "id": "D2dULTh-KfI8",
        "outputId": "6cb6d937-6879-4762-c193-460cac2b786a"
      },
      "outputs": [
        {
          "data": {
            "image/png": "[encoded data removed]",
            "text/plain": [
              "<Figure size 640x480 with 1 Axes>"
            ]
          },
          "metadata": {},
          "output_type": "display_data"
        }
      ],
      "source": [
        "# Visualize some key features\n",
        "sns.countplot(x='Anaemic', data=df)\n",
        "plt.title('Anaemia Prediction')\n",
        "plt.show()"
      ]
    },
    {
      "cell_type": "code",
      "execution_count": 313,
      "metadata": {
        "colab": {
          "base_uri": "https://localhost:8080/",
          "height": 472
        },
        "id": "XzbTnYlBLK0b",
        "outputId": "93cc9909-8da9-4dcf-a009-e8bb14142fc6"
      },
      "outputs": [
        {
          "data": {
            "image/png": "[encoded data removed]",
            "text/plain": [
              "<Figure size 640x480 with 1 Axes>"
            ]
          },
          "metadata": {},
          "output_type": "display_data"
        }
      ],
      "source": [
        "sns.boxplot(x='Anaemic', y='Hb', data=df)\n",
        "plt.title('Anemia Prediction')\n",
        "plt.show()"
      ]
    },
    {
      "cell_type": "code",
      "execution_count": 314,
      "metadata": {
        "colab": {
          "base_uri": "https://localhost:8080/",
          "height": 452
        },
        "id": "eFds4fTcLi1L",
        "outputId": "91648b3d-df8a-4aec-d65a-7487a8085587"
      },
      "outputs": [
        {
          "data": {
            "image/png": "[encoded data removed]",
            "text/plain": [
              "<Figure size 640x480 with 2 Axes>"
            ]
          },
          "metadata": {},
          "output_type": "display_data"
        }
      ],
      "source": [
        "# Select only numeric columns for correlation matrix\n",
        "numeric_columns = df.select_dtypes(include=['float64', 'float64']).columns\n",
        "sns.heatmap(df[numeric_columns].corr(), annot=True)\n",
        "plt.title('Correlation Matrix')\n",
        "plt.show()"
      ]
    },
    {
      "cell_type": "code",
      "execution_count": 315,
      "metadata": {
        "id": "ELMOxtMxLm-V"
      },
      "outputs": [],
      "source": [
        "from sklearn.model_selection import train_test_split\n",
        "from sklearn.preprocessing import StandardScaler, OneHotEncoder\n",
        "from sklearn.compose import ColumnTransformer\n",
        "from sklearn.pipeline import Pipeline\n",
        "from sklearn.impute import SimpleImputer\n",
        "\n",
        "# Splitting the dataset into training and testing sets\n",
        "X = df.drop('Anaemic', axis=1)\n",
        "y = df['Anaemic']\n",
        "X_train, X_test, y_train, y_test = train_test_split(X, y, test_size=0.2, random_state=42)"
      ]
    },
    {
      "cell_type": "code",
      "execution_count": 316,
      "metadata": {
        "colab": {
          "base_uri": "https://localhost:8080/"
        },
        "id": "4THNlI63Ls96",
        "outputId": "0f3c3626-10fc-4f49-f9ef-8ff9723db920"
      },
      "outputs": [
        {
          "name": "stdout",
          "output_type": "stream",
          "text": [
            "Logistic Regression Accuracy: 0.95\n",
            "              precision    recall  f1-score   support\n",
            "\n",
            "           0       0.93      1.00      0.97        14\n",
            "           1       1.00      0.86      0.92         7\n",
            "\n",
            "    accuracy                           0.95        21\n",
            "   macro avg       0.97      0.93      0.94        21\n",
            "weighted avg       0.96      0.95      0.95        21\n",
            "\n",
            "Decision Tree Accuracy: 1.00\n",
            "              precision    recall  f1-score   support\n",
            "\n",
            "           0       1.00      1.00      1.00        14\n",
            "           1       1.00      1.00      1.00         7\n",
            "\n",
            "    accuracy                           1.00        21\n",
            "   macro avg       1.00      1.00      1.00        21\n",
            "weighted avg       1.00      1.00      1.00        21\n",
            "\n",
            "Random Forest Accuracy: 1.00\n",
            "              precision    recall  f1-score   support\n",
            "\n",
            "           0       1.00      1.00      1.00        14\n",
            "           1       1.00      1.00      1.00         7\n",
            "\n",
            "    accuracy                           1.00        21\n",
            "   macro avg       1.00      1.00      1.00        21\n",
            "weighted avg       1.00      1.00      1.00        21\n",
            "\n"
          ]
        }
      ],
      "source": [
        "from sklearn.linear_model import LogisticRegression\n",
        "from sklearn.tree import DecisionTreeClassifier\n",
        "from sklearn.ensemble import RandomForestClassifier\n",
        "from sklearn.metrics import accuracy_score, classification_report\n",
        "\n",
        "# Initialize models\n",
        "models = {\n",
        "    'Logistic Regression': LogisticRegression(),\n",
        "    'Decision Tree': DecisionTreeClassifier(),\n",
        "    'Random Forest': RandomForestClassifier()\n",
        "}\n",
        "\n",
        "# Train and evaluate models\n",
        "for name, model in models.items():\n",
        "    model.fit(X_train, y_train)\n",
        "    y_pred = model.predict(X_test)\n",
        "    accuracy = accuracy_score(y_test, y_pred)\n",
        "    print(f'{name} Accuracy: {accuracy:.2f}')\n",
        "    print(classification_report(y_test, y_pred))"
      ]
    },
    {
      "cell_type": "code",
      "execution_count": 317,
      "metadata": {
        "colab": {
          "base_uri": "https://localhost:8080/"
        },
        "id": "jFCQdOQFOmbA",
        "outputId": "852aa625-dedc-46c4-9ec8-fa60141599f4"
      },
      "outputs": [
        {
          "name": "stdout",
          "output_type": "stream",
          "text": [
            "Accuracy: 0.95\n",
            "Classification Report:\n",
            "              precision    recall  f1-score   support\n",
            "\n",
            "           0       0.93      1.00      0.97        14\n",
            "           1       1.00      0.86      0.92         7\n",
            "\n",
            "    accuracy                           0.95        21\n",
            "   macro avg       0.97      0.93      0.94        21\n",
            "weighted avg       0.96      0.95      0.95        21\n",
            "\n"
          ]
        }
      ],
      "source": [
        "\n",
        "# Buat model Random Forest\n",
        "model = RandomForestClassifier(n_estimators=100, random_state=42)\n",
        "\n",
        "# Latih model\n",
        "model.fit(X_train, y_train)\n",
        "\n",
        "# Lakukan prediksi\n",
        "y_pred = model.predict(X_test)\n",
        "\n",
        "# Evaluasi model\n",
        "accuracy = accuracy_score(y_test, y_pred)\n",
        "report = classification_report(y_test, y_pred)\n",
        "\n",
        "print(f\"Accuracy: {accuracy:.2f}\")\n",
        "print(\"Classification Report:\")\n",
        "print(report)"
      ]
    },
    {
      "cell_type": "code",
      "execution_count": 318,
      "metadata": {
        "colab": {
          "base_uri": "https://localhost:8080/"
        },
        "id": "sV-gvPtASFbP",
        "outputId": "948d2858-7da1-4bfe-fc48-34a1708d7b9b"
      },
      "outputs": [
        {
          "name": "stdout",
          "output_type": "stream",
          "text": [
            "[1]\n",
            "Pasien terkena terkena anemia\n"
          ]
        },
        {
          "name": "stderr",
          "output_type": "stream",
          "text": [
            "/Library/Frameworks/Python.framework/Versions/3.12/lib/python3.12/site-packages/sklearn/base.py:493: UserWarning: X does not have valid feature names, but RandomForestClassifier was fitted with feature names\n",
            "  warnings.warn(\n"
          ]
        }
      ],
      "source": [
        "import numpy as np\n",
        "from sklearn.ensemble import RandomForestClassifier\n",
        "\n",
        "\n",
        "# Contoh data input\n",
        "input_data = (432.555, 308.421, 259.025, 6.03)\n",
        "\n",
        "# Mengonversi data input menjadi array numpy\n",
        "input_data_as_numpy_array = np.array(input_data)\n",
        "\n",
        "# Mereshape data input untuk prediksi\n",
        "input_data_reshape = input_data_as_numpy_array.reshape(1, -1)\n",
        "\n",
        "# Contoh model, pastikan model Anda sudah dilatih\n",
        "# model = randomforest().fit(X_train, y_train) # Hanya sebagai contoh, ganti dengan model Anda\n",
        "\n",
        "# Melakukan prediksi\n",
        "prediction = model.predict(input_data_reshape)\n",
        "print(prediction)\n",
        "\n",
        "# Memeriksa hasil prediksi\n",
        "if prediction[0] == 0:\n",
        "    print('pasien  tidak terkena anemia')\n",
        "else:\n",
        "    print('Pasien terkena terkena anemia')\n"
      ]
    },
    {
      "cell_type": "code",
      "execution_count": 319,
      "metadata": {},
      "outputs": [],
      "source": [
        "import pickle"
      ]
    },
    {
      "cell_type": "code",
      "execution_count": 320,
      "metadata": {},
      "outputs": [],
      "source": [
        "filename = 'Anaemic_prediksi.sav'\n",
        "pickle.dump(model,open(filename,'wb'))"
      ]
    },
    {
      "cell_type": "code",
      "execution_count": 321,
      "metadata": {},
      "outputs": [
        {
          "name": "stdout",
          "output_type": "stream",
          "text": [
            "Requirement already satisfied: scikit-learn in /Library/Frameworks/Python.framework/Versions/3.12/lib/python3.12/site-packages (1.5.1)\n",
            "Requirement already satisfied: numpy>=1.19.5 in /Library/Frameworks/Python.framework/Versions/3.12/lib/python3.12/site-packages (from scikit-learn) (2.0.1)\n",
            "Requirement already satisfied: scipy>=1.6.0 in /Library/Frameworks/Python.framework/Versions/3.12/lib/python3.12/site-packages (from scikit-learn) (1.14.0)\n",
            "Requirement already satisfied: joblib>=1.2.0 in /Library/Frameworks/Python.framework/Versions/3.12/lib/python3.12/site-packages (from scikit-learn) (1.4.2)\n",
            "Requirement already satisfied: threadpoolctl>=3.1.0 in /Library/Frameworks/Python.framework/Versions/3.12/lib/python3.12/site-packages (from scikit-learn) (3.5.0)\n",
            "Note: you may need to restart the kernel to use updated packages.\n"
          ]
        }
      ],
      "source": [
        "pip install scikit-learn"
      ]
    },
    {
      "cell_type": "code",
      "execution_count": 322,
      "metadata": {},
      "outputs": [
        {
          "name": "stdout",
          "output_type": "stream",
          "text": [
            "Numpy version: 2.0.1\n",
            "Scipy version: 1.14.0\n",
            "Scikit-learn version: 1.5.1\n",
            "Pandas version: 2.2.2\n",
            "Matplotlib version: 3.9.1\n"
          ]
        }
      ],
      "source": [
        "import numpy\n",
        "import scipy\n",
        "import sklearn\n",
        "import pandas\n",
        "import matplotlib\n",
        "\n",
        "print(\"Numpy version:\", numpy.__version__)\n",
        "print(\"Scipy version:\", scipy.__version__)\n",
        "print(\"Scikit-learn version:\", sklearn.__version__)\n",
        "print(\"Pandas version:\", pandas.__version__)\n",
        "print(\"Matplotlib version:\", matplotlib.__version__)\n"
      ]
    }
  ],
  "metadata": {
    "colab": {
      "provenance": []
    },
    "kernelspec": {
      "display_name": "Python 3",
      "name": "python3"
    },
    "language_info": {
      "codemirror_mode": {
        "name": "ipython",
        "version": 3
      },
      "file_extension": ".py",
      "mimetype": "text/x-python",
      "name": "python",
      "nbconvert_exporter": "python",
      "pygments_lexer": "ipython3",
      "version": "3.12.4"
    }
  },
  "nbformat": 4,
  "nbformat_minor": 0
}
